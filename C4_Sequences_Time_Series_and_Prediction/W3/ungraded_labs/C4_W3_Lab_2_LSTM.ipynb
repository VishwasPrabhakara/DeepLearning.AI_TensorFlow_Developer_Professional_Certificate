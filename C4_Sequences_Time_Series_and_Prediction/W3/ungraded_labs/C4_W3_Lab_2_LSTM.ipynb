{
  "cells": [
    {
      "cell_type": "markdown",
      "metadata": {
        "id": "C_mpSpSk8Mr5"
      },
      "source": [
        "<a href=\"https://colab.research.google.com/github/https-deeplearning-ai/tensorflow-1-public/blob/main/C4/W3/ungraded_labs/C4_W3_Lab_2_LSTM.ipynb\" target=\"_parent\"><img src=\"https://colab.research.google.com/assets/colab-badge.svg\" alt=\"Open In Colab\"/></a>"
      ]
    },
    {
      "cell_type": "markdown",
      "metadata": {
        "id": "sV_nvXSQGJPK"
      },
      "source": [
        "# Ungraded Lab: Using a multi-layer LSTM for forecasting\n",
        "\n",
        "In this lab, you will use the same RNN architecure in the first lab but will instead stack [LSTM](https://www.tensorflow.org/api_docs/python/tf/keras/layers/LSTM) layers instead of `SimpleRNN`."
      ]
    },
    {
      "cell_type": "markdown",
      "metadata": {
        "id": "3IMbAWETGOWD"
      },
      "source": [
        "## Imports"
      ]
    },
    {
      "cell_type": "code",
      "execution_count": 1,
      "metadata": {
        "id": "BOjujz601HcS"
      },
      "outputs": [],
      "source": [
        "import tensorflow as tf\n",
        "import numpy as np\n",
        "import matplotlib.pyplot as plt"
      ]
    },
    {
      "cell_type": "markdown",
      "metadata": {
        "id": "kD7RQQ0xGQVH"
      },
      "source": [
        "## Utilities"
      ]
    },
    {
      "cell_type": "code",
      "execution_count": 2,
      "metadata": {
        "id": "Zswl7jRtGzkk"
      },
      "outputs": [],
      "source": [
        "def plot_series(time, series, format=\"-\", start=0, end=None):\n",
        "    \"\"\"\n",
        "    Visualizes time series data\n",
        "\n",
        "    Args:\n",
        "      time (array of int) - contains the time steps\n",
        "      series (array of int) - contains the measurements for each time step\n",
        "      format - line style when plotting the graph\n",
        "      start - first time step to plot\n",
        "      end - last time step to plot\n",
        "    \"\"\"\n",
        "\n",
        "    # Setup dimensions of the graph figure\n",
        "    plt.figure(figsize=(10, 6))\n",
        "\n",
        "    if type(series) is tuple:\n",
        "\n",
        "      for series_num in series:\n",
        "        # Plot the time series data\n",
        "        plt.plot(time[start:end], series_num[start:end], format)\n",
        "\n",
        "    else:\n",
        "      # Plot the time series data\n",
        "      plt.plot(time[start:end], series[start:end], format)\n",
        "\n",
        "    # Label the x-axis\n",
        "    plt.xlabel(\"Time\")\n",
        "\n",
        "    # Label the y-axis\n",
        "    plt.ylabel(\"Value\")\n",
        "\n",
        "    # Overlay a grid on the graph\n",
        "    plt.grid(True)\n",
        "\n",
        "    # Draw the graph on screen\n",
        "    plt.show()\n",
        "\n",
        "def trend(time, slope=0):\n",
        "    \"\"\"\n",
        "    Generates synthetic data that follows a straight line given a slope value.\n",
        "\n",
        "    Args:\n",
        "      time (array of int) - contains the time steps\n",
        "      slope (float) - determines the direction and steepness of the line\n",
        "\n",
        "    Returns:\n",
        "      series (array of float) - measurements that follow a straight line\n",
        "    \"\"\"\n",
        "\n",
        "    # Compute the linear series given the slope\n",
        "    series = slope * time\n",
        "\n",
        "    return series\n",
        "\n",
        "def seasonal_pattern(season_time):\n",
        "    \"\"\"\n",
        "    Just an arbitrary pattern, you can change it if you wish\n",
        "\n",
        "    Args:\n",
        "      season_time (array of float) - contains the measurements per time step\n",
        "\n",
        "    Returns:\n",
        "      data_pattern (array of float) -  contains revised measurement values according\n",
        "                                  to the defined pattern\n",
        "    \"\"\"\n",
        "\n",
        "    # Generate the values using an arbitrary pattern\n",
        "    data_pattern = np.where(season_time < 0.4,\n",
        "                    np.cos(season_time * 2 * np.pi),\n",
        "                    1 / np.exp(3 * season_time))\n",
        "\n",
        "    return data_pattern\n",
        "\n",
        "def seasonality(time, period, amplitude=1, phase=0):\n",
        "    \"\"\"\n",
        "    Repeats the same pattern at each period\n",
        "\n",
        "    Args:\n",
        "      time (array of int) - contains the time steps\n",
        "      period (int) - number of time steps before the pattern repeats\n",
        "      amplitude (int) - peak measured value in a period\n",
        "      phase (int) - number of time steps to shift the measured values\n",
        "\n",
        "    Returns:\n",
        "      data_pattern (array of float) - seasonal data scaled by the defined amplitude\n",
        "    \"\"\"\n",
        "\n",
        "    # Define the measured values per period\n",
        "    season_time = ((time + phase) % period) / period\n",
        "\n",
        "    # Generates the seasonal data scaled by the defined amplitude\n",
        "    data_pattern = amplitude * seasonal_pattern(season_time)\n",
        "\n",
        "    return data_pattern\n",
        "\n",
        "def noise(time, noise_level=1, seed=None):\n",
        "    \"\"\"Generates a normally distributed noisy signal\n",
        "\n",
        "    Args:\n",
        "      time (array of int) - contains the time steps\n",
        "      noise_level (float) - scaling factor for the generated signal\n",
        "      seed (int) - number generator seed for repeatability\n",
        "\n",
        "    Returns:\n",
        "      noise (array of float) - the noisy signal\n",
        "    \"\"\"\n",
        "\n",
        "    # Initialize the random number generator\n",
        "    rnd = np.random.RandomState(seed)\n",
        "\n",
        "    # Generate a random number for each time step and scale by the noise level\n",
        "    noise = rnd.randn(len(time)) * noise_level\n",
        "\n",
        "    return noise"
      ]
    },
    {
      "cell_type": "markdown",
      "metadata": {
        "id": "yxNyeFWjGSdj"
      },
      "source": [
        "## Generate the Synthetic Data"
      ]
    },
    {
      "cell_type": "code",
      "execution_count": 3,
      "metadata": {
        "colab": {
          "base_uri": "https://localhost:8080/",
          "height": 542
        },
        "id": "KYEUfDbdpHPm",
        "outputId": "b7d61fb6-dd19-49e0-b87f-349e9c5bcde0"
      },
      "outputs": [
        {
          "data": {
            "image/png": "[encoded data removed]",
            "text/plain": [
              "<Figure size 1000x600 with 1 Axes>"
            ]
          },
          "metadata": {},
          "output_type": "display_data"
        }
      ],
      "source": [
        "# Parameters\n",
        "time = np.arange(4 * 365 + 1, dtype=\"float32\")\n",
        "baseline = 10\n",
        "amplitude = 40\n",
        "slope = 0.05\n",
        "noise_level = 5\n",
        "\n",
        "# Create the series\n",
        "series = baseline + trend(time, slope) + seasonality(time, period=365, amplitude=amplitude)\n",
        "\n",
        "# Update with noise\n",
        "series += noise(time, noise_level, seed=42)\n",
        "\n",
        "# Plot the results\n",
        "plot_series(time, series)"
      ]
    },
    {
      "cell_type": "markdown",
      "metadata": {
        "id": "MYKCvv-eGWRc"
      },
      "source": [
        "## Split the Dataset"
      ]
    },
    {
      "cell_type": "code",
      "execution_count": 4,
      "metadata": {
        "id": "hpp0slenpKVD"
      },
      "outputs": [],
      "source": [
        "# Define the split time\n",
        "split_time = 1000\n",
        "\n",
        "# Get the train set\n",
        "time_train = time[:split_time]\n",
        "x_train = series[:split_time]\n",
        "\n",
        "# Get the validation set\n",
        "time_valid = time[split_time:]\n",
        "x_valid = series[split_time:]"
      ]
    },
    {
      "cell_type": "markdown",
      "metadata": {
        "id": "cktHz9aOGYtV"
      },
      "source": [
        "## Prepare Features and Labels"
      ]
    },
    {
      "cell_type": "code",
      "execution_count": 5,
      "metadata": {
        "id": "G_j_2_Mqwn7-"
      },
      "outputs": [],
      "source": [
        "# Parameters\n",
        "window_size = 20\n",
        "batch_size = 32\n",
        "shuffle_buffer_size = 1000"
      ]
    },
    {
      "cell_type": "code",
      "execution_count": 6,
      "metadata": {
        "id": "4sTTIOCbyShY"
      },
      "outputs": [],
      "source": [
        "def windowed_dataset(series, window_size, batch_size, shuffle_buffer):\n",
        "    \"\"\"Generates dataset windows\n",
        "\n",
        "    Args:\n",
        "      series (array of float) - contains the values of the time series\n",
        "      window_size (int) - the number of time steps to include in the feature\n",
        "      batch_size (int) - the batch size\n",
        "      shuffle_buffer(int) - buffer size to use for the shuffle method\n",
        "\n",
        "    Returns:\n",
        "      dataset (TF Dataset) - TF Dataset containing time windows\n",
        "    \"\"\"\n",
        "\n",
        "    # Generate a TF Dataset from the series values\n",
        "    dataset = tf.data.Dataset.from_tensor_slices(series)\n",
        "\n",
        "    # Window the data but only take those with the specified size\n",
        "    dataset = dataset.window(window_size + 1, shift=1, drop_remainder=True)\n",
        "\n",
        "    # Flatten the windows by putting its elements in a single batch\n",
        "    dataset = dataset.flat_map(lambda window: window.batch(window_size + 1))\n",
        "\n",
        "    # Create tuples with features and labels\n",
        "    dataset = dataset.map(lambda window: (window[:-1], window[-1]))\n",
        "\n",
        "    # Shuffle the windows\n",
        "    dataset = dataset.shuffle(shuffle_buffer)\n",
        "\n",
        "    # Create batches of windows\n",
        "    dataset = dataset.batch(batch_size).prefetch(1)\n",
        "\n",
        "    return dataset"
      ]
    },
    {
      "cell_type": "code",
      "execution_count": 7,
      "metadata": {
        "id": "vGj5-InSwtQQ"
      },
      "outputs": [],
      "source": [
        "# Generate the dataset windows\n",
        "dataset = windowed_dataset(x_train, window_size, batch_size, shuffle_buffer_size)"
      ]
    },
    {
      "cell_type": "markdown",
      "metadata": {
        "id": "p9-Ke8ZaGcjd"
      },
      "source": [
        "## Build the Model\n",
        "\n",
        "As mentioned, you will swap `SimpleRNN` for `LSTM` in this lab. It is also set as bidirectional below but feel free to revise later and see what results you get. LSTMs are much more complex in their internal architecture than simpleRNNs. It implements a cell state that allows it to remember sequences better than simple implementations. This added complexity results in a bigger set of parameters to train and you'll see that when you print the model summary below."
      ]
    },
    {
      "cell_type": "code",
      "execution_count": 8,
      "metadata": {
        "colab": {
          "base_uri": "https://localhost:8080/"
        },
        "id": "A1Hl39rklkLm",
        "outputId": "6c93737e-8607-4c43-b238-d1872f0fb22f"
      },
      "outputs": [
        {
          "name": "stdout",
          "output_type": "stream",
          "text": [
            "Model: \"sequential\"\n",
            "_________________________________________________________________\n",
            " Layer (type)                Output Shape              Param #   \n",
            "=================================================================\n",
            " lambda (Lambda)             (None, 20, 1)             0         \n",
            "                                                                 \n",
            " bidirectional (Bidirection  (None, 20, 64)            8704      \n",
            " al)                                                             \n",
            "                                                                 \n",
            " bidirectional_1 (Bidirecti  (None, 64)                24832     \n",
            " onal)                                                           \n",
            "                                                                 \n",
            " dense (Dense)               (None, 1)                 65        \n",
            "                                                                 \n",
            " lambda_1 (Lambda)           (None, 1)                 0         \n",
            "                                                                 \n",
            "=================================================================\n",
            "Total params: 33601 (131.25 KB)\n",
            "Trainable params: 33601 (131.25 KB)\n",
            "Non-trainable params: 0 (0.00 Byte)\n",
            "_________________________________________________________________\n"
          ]
        }
      ],
      "source": [
        "# Build the Model\n",
        "model_tune = tf.keras.models.Sequential([\n",
        "  tf.keras.layers.Lambda(lambda x: tf.expand_dims(x, axis=-1),\n",
        "                      input_shape=[window_size]),\n",
        "    tf.keras.layers.Bidirectional(tf.keras.layers.LSTM(32, return_sequences=True)),\n",
        "  tf.keras.layers.Bidirectional(tf.keras.layers.LSTM(32)),\n",
        "  tf.keras.layers.Dense(1),\n",
        "  tf.keras.layers.Lambda(lambda x: x * 100.0)\n",
        "])\n",
        "\n",
        "# Print the model summary\n",
        "model_tune.summary()"
      ]
    },
    {
      "cell_type": "markdown",
      "metadata": {
        "id": "FHaFblbwq0GV"
      },
      "source": [
        "## Tune the Learning Rate\n",
        "\n",
        "As usual, you will pick a learning rate by running the tuning code below."
      ]
    },
    {
      "cell_type": "code",
      "execution_count": 9,
      "metadata": {
        "colab": {
          "base_uri": "https://localhost:8080/"
        },
        "id": "qE7al18qw48G",
        "outputId": "6a827f40-a9dc-47ce-fbe4-eca4590dd410"
      },
      "outputs": [
        {
          "name": "stdout",
          "output_type": "stream",
          "text": [
            "Epoch 1/100\n",
            "31/31 [==============================] - 8s 10ms/step - loss: 77.7645 - lr: 1.0000e-08\n",
            "Epoch 2/100\n",
            "31/31 [==============================] - 0s 9ms/step - loss: 75.6363 - lr: 1.1220e-08\n",
            "Epoch 3/100\n",
            "31/31 [==============================] - 0s 9ms/step - loss: 72.7113 - lr: 1.2589e-08\n",
            "Epoch 4/100\n",
            "31/31 [==============================] - 0s 10ms/step - loss: 69.1419 - lr: 1.4125e-08\n",
            "Epoch 5/100\n",
            "31/31 [==============================] - 0s 9ms/step - loss: 64.9490 - lr: 1.5849e-08\n",
            "Epoch 6/100\n",
            "31/31 [==============================] - 0s 9ms/step - loss: 60.3026 - lr: 1.7783e-08\n",
            "Epoch 7/100\n",
            "31/31 [==============================] - 0s 9ms/step - loss: 55.9136 - lr: 1.9953e-08\n",
            "Epoch 8/100\n",
            "31/31 [==============================] - 0s 9ms/step - loss: 52.2907 - lr: 2.2387e-08\n",
            "Epoch 9/100\n",
            "31/31 [==============================] - 1s 13ms/step - loss: 49.2589 - lr: 2.5119e-08\n",
            "Epoch 10/100\n",
            "31/31 [==============================] - 1s 13ms/step - loss: 46.5405 - lr: 2.8184e-08\n",
            "Epoch 11/100\n",
            "31/31 [==============================] - 1s 13ms/step - loss: 43.9141 - lr: 3.1623e-08\n",
            "Epoch 12/100\n",
            "31/31 [==============================] - 1s 13ms/step - loss: 41.2693 - lr: 3.5481e-08\n",
            "Epoch 13/100\n",
            "31/31 [==============================] - 1s 13ms/step - loss: 38.5259 - lr: 3.9811e-08\n",
            "Epoch 14/100\n",
            "31/31 [==============================] - 0s 9ms/step - loss: 35.6063 - lr: 4.4668e-08\n",
            "Epoch 15/100\n",
            "31/31 [==============================] - 0s 9ms/step - loss: 32.4729 - lr: 5.0119e-08\n",
            "Epoch 16/100\n",
            "31/31 [==============================] - 0s 9ms/step - loss: 29.0691 - lr: 5.6234e-08\n",
            "Epoch 17/100\n",
            "31/31 [==============================] - 0s 10ms/step - loss: 25.3654 - lr: 6.3096e-08\n",
            "Epoch 18/100\n",
            "31/31 [==============================] - 0s 9ms/step - loss: 21.3576 - lr: 7.0795e-08\n",
            "Epoch 19/100\n",
            "31/31 [==============================] - 0s 9ms/step - loss: 17.1007 - lr: 7.9433e-08\n",
            "Epoch 20/100\n",
            "31/31 [==============================] - 0s 9ms/step - loss: 13.4260 - lr: 8.9125e-08\n",
            "Epoch 21/100\n",
            "31/31 [==============================] - 0s 10ms/step - loss: 11.2182 - lr: 1.0000e-07\n",
            "Epoch 22/100\n",
            "31/31 [==============================] - 0s 9ms/step - loss: 10.2750 - lr: 1.1220e-07\n",
            "Epoch 23/100\n",
            "31/31 [==============================] - 0s 10ms/step - loss: 9.9510 - lr: 1.2589e-07\n",
            "Epoch 24/100\n",
            "31/31 [==============================] - 0s 9ms/step - loss: 9.7908 - lr: 1.4125e-07\n",
            "Epoch 25/100\n",
            "31/31 [==============================] - 0s 9ms/step - loss: 9.6512 - lr: 1.5849e-07\n",
            "Epoch 26/100\n",
            "31/31 [==============================] - 0s 10ms/step - loss: 9.5068 - lr: 1.7783e-07\n",
            "Epoch 27/100\n",
            "31/31 [==============================] - 0s 9ms/step - loss: 9.3529 - lr: 1.9953e-07\n",
            "Epoch 28/100\n",
            "31/31 [==============================] - 0s 9ms/step - loss: 9.1893 - lr: 2.2387e-07\n",
            "Epoch 29/100\n",
            "31/31 [==============================] - 0s 9ms/step - loss: 9.0084 - lr: 2.5119e-07\n",
            "Epoch 30/100\n",
            "31/31 [==============================] - 0s 9ms/step - loss: 8.7995 - lr: 2.8184e-07\n",
            "Epoch 31/100\n",
            "31/31 [==============================] - 0s 9ms/step - loss: 8.5908 - lr: 3.1623e-07\n",
            "Epoch 32/100\n",
            "31/31 [==============================] - 0s 9ms/step - loss: 8.3627 - lr: 3.5481e-07\n",
            "Epoch 33/100\n",
            "31/31 [==============================] - 0s 9ms/step - loss: 8.1357 - lr: 3.9811e-07\n",
            "Epoch 34/100\n",
            "31/31 [==============================] - 1s 13ms/step - loss: 7.9154 - lr: 4.4668e-07\n",
            "Epoch 35/100\n",
            "31/31 [==============================] - 1s 13ms/step - loss: 7.7078 - lr: 5.0119e-07\n",
            "Epoch 36/100\n",
            "31/31 [==============================] - 1s 12ms/step - loss: 7.5524 - lr: 5.6234e-07\n",
            "Epoch 37/100\n",
            "31/31 [==============================] - 1s 12ms/step - loss: 7.3260 - lr: 6.3096e-07\n",
            "Epoch 38/100\n",
            "31/31 [==============================] - 1s 12ms/step - loss: 7.1541 - lr: 7.0795e-07\n",
            "Epoch 39/100\n",
            "31/31 [==============================] - 0s 9ms/step - loss: 6.9931 - lr: 7.9433e-07\n",
            "Epoch 40/100\n",
            "31/31 [==============================] - 0s 9ms/step - loss: 6.8679 - lr: 8.9125e-07\n",
            "Epoch 41/100\n",
            "31/31 [==============================] - 0s 9ms/step - loss: 6.7446 - lr: 1.0000e-06\n",
            "Epoch 42/100\n",
            "31/31 [==============================] - 0s 9ms/step - loss: 6.5686 - lr: 1.1220e-06\n",
            "Epoch 43/100\n",
            "31/31 [==============================] - 0s 8ms/step - loss: 6.5641 - lr: 1.2589e-06\n",
            "Epoch 44/100\n",
            "31/31 [==============================] - 0s 9ms/step - loss: 6.4330 - lr: 1.4125e-06\n",
            "Epoch 45/100\n",
            "31/31 [==============================] - 0s 9ms/step - loss: 6.3280 - lr: 1.5849e-06\n",
            "Epoch 46/100\n",
            "31/31 [==============================] - 0s 10ms/step - loss: 6.2271 - lr: 1.7783e-06\n",
            "Epoch 47/100\n",
            "31/31 [==============================] - 0s 9ms/step - loss: 6.2098 - lr: 1.9953e-06\n",
            "Epoch 48/100\n",
            "31/31 [==============================] - 0s 9ms/step - loss: 6.0913 - lr: 2.2387e-06\n",
            "Epoch 49/100\n",
            "31/31 [==============================] - 0s 9ms/step - loss: 6.0319 - lr: 2.5119e-06\n",
            "Epoch 50/100\n",
            "31/31 [==============================] - 0s 9ms/step - loss: 5.7447 - lr: 2.8184e-06\n",
            "Epoch 51/100\n",
            "31/31 [==============================] - 0s 9ms/step - loss: 5.6350 - lr: 3.1623e-06\n",
            "Epoch 52/100\n",
            "31/31 [==============================] - 0s 9ms/step - loss: 5.5855 - lr: 3.5481e-06\n",
            "Epoch 53/100\n",
            "31/31 [==============================] - 0s 10ms/step - loss: 5.5104 - lr: 3.9811e-06\n",
            "Epoch 54/100\n",
            "31/31 [==============================] - 0s 9ms/step - loss: 5.4750 - lr: 4.4668e-06\n",
            "Epoch 55/100\n",
            "31/31 [==============================] - 0s 9ms/step - loss: 5.3498 - lr: 5.0119e-06\n",
            "Epoch 56/100\n",
            "31/31 [==============================] - 0s 10ms/step - loss: 5.0963 - lr: 5.6234e-06\n",
            "Epoch 57/100\n",
            "31/31 [==============================] - 0s 9ms/step - loss: 5.0837 - lr: 6.3096e-06\n",
            "Epoch 58/100\n",
            "31/31 [==============================] - 0s 9ms/step - loss: 5.0866 - lr: 7.0795e-06\n",
            "Epoch 59/100\n",
            "31/31 [==============================] - 0s 9ms/step - loss: 5.0573 - lr: 7.9433e-06\n",
            "Epoch 60/100\n",
            "31/31 [==============================] - 0s 9ms/step - loss: 4.8139 - lr: 8.9125e-06\n",
            "Epoch 61/100\n",
            "31/31 [==============================] - 0s 10ms/step - loss: 4.9859 - lr: 1.0000e-05\n",
            "Epoch 62/100\n",
            "31/31 [==============================] - 1s 14ms/step - loss: 5.1323 - lr: 1.1220e-05\n",
            "Epoch 63/100\n",
            "31/31 [==============================] - 1s 13ms/step - loss: 5.3403 - lr: 1.2589e-05\n",
            "Epoch 64/100\n",
            "31/31 [==============================] - 1s 13ms/step - loss: 4.9664 - lr: 1.4125e-05\n",
            "Epoch 65/100\n",
            "31/31 [==============================] - 1s 13ms/step - loss: 5.4204 - lr: 1.5849e-05\n",
            "Epoch 66/100\n",
            "31/31 [==============================] - 1s 13ms/step - loss: 5.2886 - lr: 1.7783e-05\n",
            "Epoch 67/100\n",
            "31/31 [==============================] - 0s 9ms/step - loss: 5.0045 - lr: 1.9953e-05\n",
            "Epoch 68/100\n",
            "31/31 [==============================] - 0s 9ms/step - loss: 5.0241 - lr: 2.2387e-05\n",
            "Epoch 69/100\n",
            "31/31 [==============================] - 0s 9ms/step - loss: 5.1020 - lr: 2.5119e-05\n",
            "Epoch 70/100\n",
            "31/31 [==============================] - 0s 9ms/step - loss: 4.9152 - lr: 2.8184e-05\n",
            "Epoch 71/100\n",
            "31/31 [==============================] - 0s 9ms/step - loss: 5.3069 - lr: 3.1623e-05\n",
            "Epoch 72/100\n",
            "31/31 [==============================] - 0s 9ms/step - loss: 4.8869 - lr: 3.5481e-05\n",
            "Epoch 73/100\n",
            "31/31 [==============================] - 0s 9ms/step - loss: 6.3604 - lr: 3.9811e-05\n",
            "Epoch 74/100\n",
            "31/31 [==============================] - 0s 9ms/step - loss: 5.2789 - lr: 4.4668e-05\n",
            "Epoch 75/100\n",
            "31/31 [==============================] - 0s 9ms/step - loss: 6.1655 - lr: 5.0119e-05\n",
            "Epoch 76/100\n",
            "31/31 [==============================] - 0s 9ms/step - loss: 5.2353 - lr: 5.6234e-05\n",
            "Epoch 77/100\n",
            "31/31 [==============================] - 0s 10ms/step - loss: 5.8728 - lr: 6.3096e-05\n",
            "Epoch 78/100\n",
            "31/31 [==============================] - 0s 9ms/step - loss: 5.6580 - lr: 7.0795e-05\n",
            "Epoch 79/100\n",
            "31/31 [==============================] - 0s 10ms/step - loss: 6.5124 - lr: 7.9433e-05\n",
            "Epoch 80/100\n",
            "31/31 [==============================] - 0s 9ms/step - loss: 6.1867 - lr: 8.9125e-05\n",
            "Epoch 81/100\n",
            "31/31 [==============================] - 0s 9ms/step - loss: 7.1483 - lr: 1.0000e-04\n",
            "Epoch 82/100\n",
            "31/31 [==============================] - 0s 9ms/step - loss: 5.8418 - lr: 1.1220e-04\n",
            "Epoch 83/100\n",
            "31/31 [==============================] - 0s 9ms/step - loss: 7.3275 - lr: 1.2589e-04\n",
            "Epoch 84/100\n",
            "31/31 [==============================] - 0s 10ms/step - loss: 9.0300 - lr: 1.4125e-04\n",
            "Epoch 85/100\n",
            "31/31 [==============================] - 0s 10ms/step - loss: 8.2881 - lr: 1.5849e-04\n",
            "Epoch 86/100\n",
            "31/31 [==============================] - 0s 9ms/step - loss: 9.1001 - lr: 1.7783e-04\n",
            "Epoch 87/100\n",
            "31/31 [==============================] - 0s 9ms/step - loss: 6.4930 - lr: 1.9953e-04\n",
            "Epoch 88/100\n",
            "31/31 [==============================] - 0s 10ms/step - loss: 5.8849 - lr: 2.2387e-04\n",
            "Epoch 89/100\n",
            "31/31 [==============================] - 1s 12ms/step - loss: 7.7342 - lr: 2.5119e-04\n",
            "Epoch 90/100\n",
            "31/31 [==============================] - 1s 13ms/step - loss: 13.0740 - lr: 2.8184e-04\n",
            "Epoch 91/100\n",
            "31/31 [==============================] - 1s 13ms/step - loss: 7.4249 - lr: 3.1623e-04\n",
            "Epoch 92/100\n",
            "31/31 [==============================] - 1s 13ms/step - loss: 7.3959 - lr: 3.5481e-04\n",
            "Epoch 93/100\n",
            "31/31 [==============================] - 1s 13ms/step - loss: 9.4318 - lr: 3.9811e-04\n",
            "Epoch 94/100\n",
            "31/31 [==============================] - 0s 9ms/step - loss: 8.3633 - lr: 4.4668e-04\n",
            "Epoch 95/100\n",
            "31/31 [==============================] - 0s 9ms/step - loss: 12.0520 - lr: 5.0119e-04\n",
            "Epoch 96/100\n",
            "31/31 [==============================] - 0s 9ms/step - loss: 8.4863 - lr: 5.6234e-04\n",
            "Epoch 97/100\n",
            "31/31 [==============================] - 0s 9ms/step - loss: 8.3612 - lr: 6.3096e-04\n",
            "Epoch 98/100\n",
            "31/31 [==============================] - 0s 9ms/step - loss: 11.1678 - lr: 7.0795e-04\n",
            "Epoch 99/100\n",
            "31/31 [==============================] - 0s 10ms/step - loss: 8.6720 - lr: 7.9433e-04\n",
            "Epoch 100/100\n",
            "31/31 [==============================] - 1s 22ms/step - loss: 11.1297 - lr: 8.9125e-04\n"
          ]
        }
      ],
      "source": [
        "# Set the learning rate scheduler\n",
        "lr_schedule = tf.keras.callbacks.LearningRateScheduler(\n",
        "    lambda epoch: 1e-8 * 10**(epoch / 20))\n",
        "\n",
        "# Initialize the optimizer\n",
        "optimizer = tf.keras.optimizers.SGD(momentum=0.9)\n",
        "\n",
        "# Set the training parameters\n",
        "model_tune.compile(loss=tf.keras.losses.Huber(), optimizer=optimizer)\n",
        "\n",
        "# Train the model\n",
        "history = model_tune.fit(dataset, epochs=100, callbacks=[lr_schedule])"
      ]
    },
    {
      "cell_type": "code",
      "execution_count": 10,
      "metadata": {
        "colab": {
          "base_uri": "https://localhost:8080/",
          "height": 558
        },
        "id": "AkBsrsXMzoWR",
        "outputId": "d9b208c2-e8f4-411f-d8fb-bd16ef7d47c5"
      },
      "outputs": [
        {
          "data": {
            "text/plain": [
              "(1e-08, 0.001, 0.0, 30.0)"
            ]
          },
          "execution_count": 10,
          "metadata": {},
          "output_type": "execute_result"
        },
        {
          "data": {
            "image/png": "[encoded data removed]",
            "text/plain": [
              "<Figure size 1000x600 with 1 Axes>"
            ]
          },
          "metadata": {},
          "output_type": "display_data"
        }
      ],
      "source": [
        "# Define the learning rate array\n",
        "lrs = 1e-8 * (10 ** (np.arange(100) / 20))\n",
        "\n",
        "# Set the figure size\n",
        "plt.figure(figsize=(10, 6))\n",
        "\n",
        "# Set the grid\n",
        "plt.grid(True)\n",
        "\n",
        "# Plot the loss in log scale\n",
        "plt.semilogx(lrs, history.history[\"loss\"])\n",
        "\n",
        "# Increase the tickmarks size\n",
        "plt.tick_params('both', length=10, width=1, which='both')\n",
        "\n",
        "# Set the plot boundaries\n",
        "plt.axis([1e-8, 1e-3, 0, 30])"
      ]
    },
    {
      "cell_type": "markdown",
      "metadata": {
        "id": "i-lKNp4pq_w8"
      },
      "source": [
        "## Train the Model\n",
        "\n",
        "You can then proceed to train the model with your chosen learning rate.\n",
        "\n",
        "*Tip: When experimenting and you find yourself running different iterations of a model, you may want to use the [`clear_session()`](https://www.tensorflow.org/api_docs/python/tf/keras/backend/clear_session) method to declutter memory used by Keras. This is added in the first line below.*\n"
      ]
    },
    {
      "cell_type": "code",
      "execution_count": 11,
      "metadata": {
        "colab": {
          "base_uri": "https://localhost:8080/"
        },
        "id": "4uh-97bpLZCA",
        "outputId": "69866e3f-54b4-45b8-c5ec-0c061a4d4ca3"
      },
      "outputs": [
        {
          "name": "stdout",
          "output_type": "stream",
          "text": [
            "Epoch 1/100\n",
            "31/31 [==============================] - 7s 20ms/step - loss: 37.0955 - mae: 37.5929\n",
            "Epoch 2/100\n",
            "31/31 [==============================] - 1s 15ms/step - loss: 14.6780 - mae: 15.1732\n",
            "Epoch 3/100\n",
            "31/31 [==============================] - 1s 11ms/step - loss: 10.7816 - mae: 11.2725\n",
            "Epoch 4/100\n",
            "31/31 [==============================] - 0s 9ms/step - loss: 8.9275 - mae: 9.4139\n",
            "Epoch 5/100\n",
            "31/31 [==============================] - 0s 9ms/step - loss: 7.8907 - mae: 8.3738\n",
            "Epoch 6/100\n",
            "31/31 [==============================] - 0s 9ms/step - loss: 7.3838 - mae: 7.8688\n",
            "Epoch 7/100\n",
            "31/31 [==============================] - 0s 9ms/step - loss: 7.1546 - mae: 7.6345\n",
            "Epoch 8/100\n",
            "31/31 [==============================] - 0s 9ms/step - loss: 6.9873 - mae: 7.4735\n",
            "Epoch 9/100\n",
            "31/31 [==============================] - 0s 9ms/step - loss: 6.8353 - mae: 7.3177\n",
            "Epoch 10/100\n",
            "31/31 [==============================] - 0s 10ms/step - loss: 6.5445 - mae: 7.0261\n",
            "Epoch 11/100\n",
            "31/31 [==============================] - 0s 9ms/step - loss: 6.4206 - mae: 6.9024\n",
            "Epoch 12/100\n",
            "31/31 [==============================] - 0s 10ms/step - loss: 6.2967 - mae: 6.7773\n",
            "Epoch 13/100\n",
            "31/31 [==============================] - 0s 9ms/step - loss: 6.1950 - mae: 6.6742\n",
            "Epoch 14/100\n",
            "31/31 [==============================] - 0s 10ms/step - loss: 6.1469 - mae: 6.6284\n",
            "Epoch 15/100\n",
            "31/31 [==============================] - 0s 9ms/step - loss: 6.0647 - mae: 6.5447\n",
            "Epoch 16/100\n",
            "31/31 [==============================] - 0s 9ms/step - loss: 5.9877 - mae: 6.4669\n",
            "Epoch 17/100\n",
            "31/31 [==============================] - 0s 9ms/step - loss: 5.9678 - mae: 6.4474\n",
            "Epoch 18/100\n",
            "31/31 [==============================] - 0s 9ms/step - loss: 5.8734 - mae: 6.3530\n",
            "Epoch 19/100\n",
            "31/31 [==============================] - 0s 9ms/step - loss: 5.8511 - mae: 6.3280\n",
            "Epoch 20/100\n",
            "31/31 [==============================] - 0s 8ms/step - loss: 5.8470 - mae: 6.3256\n",
            "Epoch 21/100\n",
            "31/31 [==============================] - 0s 9ms/step - loss: 5.7808 - mae: 6.2560\n",
            "Epoch 22/100\n",
            "31/31 [==============================] - 0s 9ms/step - loss: 5.7242 - mae: 6.2017\n",
            "Epoch 23/100\n",
            "31/31 [==============================] - 0s 10ms/step - loss: 5.7341 - mae: 6.2114\n",
            "Epoch 24/100\n",
            "31/31 [==============================] - 0s 10ms/step - loss: 5.6975 - mae: 6.1802\n",
            "Epoch 25/100\n",
            "31/31 [==============================] - 1s 13ms/step - loss: 5.6402 - mae: 6.1195\n",
            "Epoch 26/100\n",
            "31/31 [==============================] - 1s 13ms/step - loss: 5.6916 - mae: 6.1722\n",
            "Epoch 27/100\n",
            "31/31 [==============================] - 1s 13ms/step - loss: 5.6295 - mae: 6.1056\n",
            "Epoch 28/100\n",
            "31/31 [==============================] - 1s 14ms/step - loss: 5.5545 - mae: 6.0328\n",
            "Epoch 29/100\n",
            "31/31 [==============================] - 1s 13ms/step - loss: 5.5450 - mae: 6.0236\n",
            "Epoch 30/100\n",
            "31/31 [==============================] - 0s 10ms/step - loss: 5.5211 - mae: 6.0001\n",
            "Epoch 31/100\n",
            "31/31 [==============================] - 0s 9ms/step - loss: 5.4762 - mae: 5.9563\n",
            "Epoch 32/100\n",
            "31/31 [==============================] - 0s 9ms/step - loss: 5.5130 - mae: 5.9850\n",
            "Epoch 33/100\n",
            "31/31 [==============================] - 0s 9ms/step - loss: 5.4350 - mae: 5.9119\n",
            "Epoch 34/100\n",
            "31/31 [==============================] - 0s 10ms/step - loss: 5.3969 - mae: 5.8729\n",
            "Epoch 35/100\n",
            "31/31 [==============================] - 0s 9ms/step - loss: 5.4808 - mae: 5.9608\n",
            "Epoch 36/100\n",
            "31/31 [==============================] - 0s 9ms/step - loss: 5.3876 - mae: 5.8690\n",
            "Epoch 37/100\n",
            "31/31 [==============================] - 0s 10ms/step - loss: 5.3218 - mae: 5.7983\n",
            "Epoch 38/100\n",
            "31/31 [==============================] - 0s 10ms/step - loss: 5.3155 - mae: 5.7945\n",
            "Epoch 39/100\n",
            "31/31 [==============================] - 0s 9ms/step - loss: 5.3682 - mae: 5.8452\n",
            "Epoch 40/100\n",
            "31/31 [==============================] - 0s 9ms/step - loss: 5.2493 - mae: 5.7239\n",
            "Epoch 41/100\n",
            "31/31 [==============================] - 0s 10ms/step - loss: 5.2068 - mae: 5.6878\n",
            "Epoch 42/100\n",
            "31/31 [==============================] - 0s 9ms/step - loss: 5.3281 - mae: 5.8049\n",
            "Epoch 43/100\n",
            "31/31 [==============================] - 0s 10ms/step - loss: 5.1983 - mae: 5.6742\n",
            "Epoch 44/100\n",
            "31/31 [==============================] - 0s 9ms/step - loss: 5.2173 - mae: 5.6914\n",
            "Epoch 45/100\n",
            "31/31 [==============================] - 0s 9ms/step - loss: 5.3174 - mae: 5.7958\n",
            "Epoch 46/100\n",
            "31/31 [==============================] - 0s 9ms/step - loss: 5.1536 - mae: 5.6282\n",
            "Epoch 47/100\n",
            "31/31 [==============================] - 0s 10ms/step - loss: 5.1509 - mae: 5.6284\n",
            "Epoch 48/100\n",
            "31/31 [==============================] - 0s 9ms/step - loss: 5.1933 - mae: 5.6705\n",
            "Epoch 49/100\n",
            "31/31 [==============================] - 0s 9ms/step - loss: 5.0484 - mae: 5.5269\n",
            "Epoch 50/100\n",
            "31/31 [==============================] - 0s 13ms/step - loss: 5.0743 - mae: 5.5533\n",
            "Epoch 51/100\n",
            "31/31 [==============================] - 1s 14ms/step - loss: 5.0037 - mae: 5.4790\n",
            "Epoch 52/100\n",
            "31/31 [==============================] - 1s 13ms/step - loss: 5.0390 - mae: 5.5117\n",
            "Epoch 53/100\n",
            "31/31 [==============================] - 0s 9ms/step - loss: 5.0475 - mae: 5.5235\n",
            "Epoch 54/100\n",
            "31/31 [==============================] - 0s 9ms/step - loss: 4.9741 - mae: 5.4498\n",
            "Epoch 55/100\n",
            "31/31 [==============================] - 0s 9ms/step - loss: 4.9497 - mae: 5.4244\n",
            "Epoch 56/100\n",
            "31/31 [==============================] - 0s 9ms/step - loss: 4.9277 - mae: 5.4047\n",
            "Epoch 57/100\n",
            "31/31 [==============================] - 0s 9ms/step - loss: 4.9680 - mae: 5.4466\n",
            "Epoch 58/100\n",
            "31/31 [==============================] - 0s 9ms/step - loss: 4.9816 - mae: 5.4555\n",
            "Epoch 59/100\n",
            "31/31 [==============================] - 0s 10ms/step - loss: 4.9592 - mae: 5.4350\n",
            "Epoch 60/100\n",
            "31/31 [==============================] - 0s 9ms/step - loss: 4.9335 - mae: 5.4085\n",
            "Epoch 61/100\n",
            "31/31 [==============================] - 0s 10ms/step - loss: 4.9075 - mae: 5.3866\n",
            "Epoch 62/100\n",
            "31/31 [==============================] - 0s 10ms/step - loss: 4.8758 - mae: 5.3511\n",
            "Epoch 63/100\n",
            "31/31 [==============================] - 0s 10ms/step - loss: 4.9162 - mae: 5.3921\n",
            "Epoch 64/100\n",
            "31/31 [==============================] - 0s 10ms/step - loss: 4.8740 - mae: 5.3506\n",
            "Epoch 65/100\n",
            "31/31 [==============================] - 0s 9ms/step - loss: 4.8638 - mae: 5.3386\n",
            "Epoch 66/100\n",
            "31/31 [==============================] - 0s 10ms/step - loss: 4.8414 - mae: 5.3187\n",
            "Epoch 67/100\n",
            "31/31 [==============================] - 0s 9ms/step - loss: 4.8414 - mae: 5.3177\n",
            "Epoch 68/100\n",
            "31/31 [==============================] - 0s 10ms/step - loss: 4.8430 - mae: 5.3206\n",
            "Epoch 69/100\n",
            "31/31 [==============================] - 0s 9ms/step - loss: 4.9111 - mae: 5.3911\n",
            "Epoch 70/100\n",
            "31/31 [==============================] - 0s 10ms/step - loss: 4.8183 - mae: 5.2989\n",
            "Epoch 71/100\n",
            "31/31 [==============================] - 0s 9ms/step - loss: 4.8417 - mae: 5.3195\n",
            "Epoch 72/100\n",
            "31/31 [==============================] - 0s 9ms/step - loss: 4.8538 - mae: 5.3297\n",
            "Epoch 73/100\n",
            "31/31 [==============================] - 0s 9ms/step - loss: 4.8773 - mae: 5.3530\n",
            "Epoch 74/100\n",
            "31/31 [==============================] - 0s 9ms/step - loss: 4.7892 - mae: 5.2640\n",
            "Epoch 75/100\n",
            "31/31 [==============================] - 0s 9ms/step - loss: 4.8308 - mae: 5.3073\n",
            "Epoch 76/100\n",
            "31/31 [==============================] - 0s 12ms/step - loss: 4.8323 - mae: 5.3077\n",
            "Epoch 77/100\n",
            "31/31 [==============================] - 1s 13ms/step - loss: 4.7802 - mae: 5.2565\n",
            "Epoch 78/100\n",
            "31/31 [==============================] - 1s 13ms/step - loss: 4.7641 - mae: 5.2392\n",
            "Epoch 79/100\n",
            "31/31 [==============================] - 1s 13ms/step - loss: 4.7847 - mae: 5.2658\n",
            "Epoch 80/100\n",
            "31/31 [==============================] - 1s 13ms/step - loss: 4.8377 - mae: 5.3150\n",
            "Epoch 81/100\n",
            "31/31 [==============================] - 0s 11ms/step - loss: 4.7851 - mae: 5.2648\n",
            "Epoch 82/100\n",
            "31/31 [==============================] - 0s 9ms/step - loss: 4.8357 - mae: 5.3130\n",
            "Epoch 83/100\n",
            "31/31 [==============================] - 0s 9ms/step - loss: 5.0187 - mae: 5.5028\n",
            "Epoch 84/100\n",
            "31/31 [==============================] - 0s 10ms/step - loss: 4.7307 - mae: 5.2067\n",
            "Epoch 85/100\n",
            "31/31 [==============================] - 0s 10ms/step - loss: 4.7367 - mae: 5.2148\n",
            "Epoch 86/100\n",
            "31/31 [==============================] - 0s 9ms/step - loss: 4.7806 - mae: 5.2577\n",
            "Epoch 87/100\n",
            "31/31 [==============================] - 0s 10ms/step - loss: 4.7256 - mae: 5.2050\n",
            "Epoch 88/100\n",
            "31/31 [==============================] - 0s 9ms/step - loss: 4.6937 - mae: 5.1704\n",
            "Epoch 89/100\n",
            "31/31 [==============================] - 0s 11ms/step - loss: 4.7680 - mae: 5.2437\n",
            "Epoch 90/100\n",
            "31/31 [==============================] - 0s 9ms/step - loss: 4.6770 - mae: 5.1521\n",
            "Epoch 91/100\n",
            "31/31 [==============================] - 0s 10ms/step - loss: 4.6604 - mae: 5.1378\n",
            "Epoch 92/100\n",
            "31/31 [==============================] - 0s 9ms/step - loss: 4.6835 - mae: 5.1609\n",
            "Epoch 93/100\n",
            "31/31 [==============================] - 0s 9ms/step - loss: 4.6514 - mae: 5.1241\n",
            "Epoch 94/100\n",
            "31/31 [==============================] - 0s 9ms/step - loss: 4.6586 - mae: 5.1353\n",
            "Epoch 95/100\n",
            "31/31 [==============================] - 0s 10ms/step - loss: 4.7072 - mae: 5.1832\n",
            "Epoch 96/100\n",
            "31/31 [==============================] - 0s 9ms/step - loss: 4.6954 - mae: 5.1714\n",
            "Epoch 97/100\n",
            "31/31 [==============================] - 0s 9ms/step - loss: 4.8415 - mae: 5.3210\n",
            "Epoch 98/100\n",
            "31/31 [==============================] - 0s 10ms/step - loss: 4.7628 - mae: 5.2384\n",
            "Epoch 99/100\n",
            "31/31 [==============================] - 0s 9ms/step - loss: 4.6469 - mae: 5.1208\n",
            "Epoch 100/100\n",
            "31/31 [==============================] - 0s 9ms/step - loss: 4.6900 - mae: 5.1635\n"
          ]
        }
      ],
      "source": [
        "# Reset states generated by Keras\n",
        "tf.keras.backend.clear_session()\n",
        "\n",
        "# Build the model\n",
        "model = tf.keras.models.Sequential([\n",
        "  tf.keras.layers.Lambda(lambda x: tf.expand_dims(x, axis=-1),\n",
        "                      input_shape=[None]),\n",
        "   tf.keras.layers.Bidirectional(tf.keras.layers.LSTM(32, return_sequences=True)),\n",
        "  tf.keras.layers.Bidirectional(tf.keras.layers.LSTM(32)),\n",
        "  tf.keras.layers.Dense(1),\n",
        "  tf.keras.layers.Lambda(lambda x: x * 100.0)\n",
        "])\n",
        "\n",
        "# Set the learning rate\n",
        "learning_rate = 2e-6\n",
        "\n",
        "# Set the optimizer\n",
        "optimizer = tf.keras.optimizers.SGD(learning_rate=learning_rate, momentum=0.9)\n",
        "\n",
        "# Set the training parameters\n",
        "model.compile(loss=tf.keras.losses.Huber(),\n",
        "              optimizer=optimizer,\n",
        "              metrics=[\"mae\"])\n",
        "\n",
        "# Train the model\n",
        "history = model.fit(dataset,epochs=100)"
      ]
    },
    {
      "cell_type": "markdown",
      "metadata": {
        "id": "RjP4kbGiI7cw"
      },
      "source": [
        "## Model Prediction\n",
        "\n",
        "You will then generate batches of windows to generate predictions that align with the validation set."
      ]
    },
    {
      "cell_type": "code",
      "execution_count": 12,
      "metadata": {
        "id": "QO8cfKwKBBG6"
      },
      "outputs": [],
      "source": [
        "def model_forecast(model, series, window_size, batch_size):\n",
        "    \"\"\"Uses an input model to generate predictions on data windows\n",
        "\n",
        "    Args:\n",
        "      model (TF Keras Model) - model that accepts data windows\n",
        "      series (array of float) - contains the values of the time series\n",
        "      window_size (int) - the number of time steps to include in the window\n",
        "      batch_size (int) - the batch size\n",
        "\n",
        "    Returns:\n",
        "      forecast (numpy array) - array containing predictions\n",
        "    \"\"\"\n",
        "\n",
        "    # Generate a TF Dataset from the series values\n",
        "    dataset = tf.data.Dataset.from_tensor_slices(series)\n",
        "\n",
        "    # Window the data but only take those with the specified size\n",
        "    dataset = dataset.window(window_size, shift=1, drop_remainder=True)\n",
        "\n",
        "    # Flatten the windows by putting its elements in a single batch\n",
        "    dataset = dataset.flat_map(lambda w: w.batch(window_size))\n",
        "\n",
        "    # Create batches of windows\n",
        "    dataset = dataset.batch(batch_size).prefetch(1)\n",
        "\n",
        "    # Get predictions on the entire dataset\n",
        "    forecast = model.predict(dataset)\n",
        "\n",
        "    return forecast"
      ]
    },
    {
      "cell_type": "code",
      "execution_count": 13,
      "metadata": {
        "colab": {
          "base_uri": "https://localhost:8080/",
          "height": 559
        },
        "id": "_plB3UseBD8o",
        "outputId": "57e80589-3798-428d-a5ba-58247d28284f"
      },
      "outputs": [
        {
          "name": "stdout",
          "output_type": "stream",
          "text": [
            "15/15 [==============================] - 1s 8ms/step\n"
          ]
        },
        {
          "data": {
            "image/png": "[encoded data removed]",
            "text/plain": [
              "<Figure size 1000x600 with 1 Axes>"
            ]
          },
          "metadata": {},
          "output_type": "display_data"
        }
      ],
      "source": [
        "# Reduce the original series\n",
        "forecast_series = series[split_time-window_size:-1]\n",
        "\n",
        "# Use helper function to generate predictions\n",
        "forecast = model_forecast(model, forecast_series, window_size, batch_size)\n",
        "\n",
        "# Drop single dimensional axis\n",
        "results = forecast.squeeze()\n",
        "\n",
        "# Plot the results\n",
        "plot_series(time_valid, (x_valid, results))"
      ]
    },
    {
      "cell_type": "markdown",
      "metadata": {
        "id": "Nn8iSQkZtaRC"
      },
      "source": [
        "You can then generate the metrics to evaluate the model's performance."
      ]
    },
    {
      "cell_type": "code",
      "execution_count": 14,
      "metadata": {
        "colab": {
          "base_uri": "https://localhost:8080/"
        },
        "id": "-IKhueZaBGID",
        "outputId": "e52455ce-d8f9-4ba5-eb54-6c0d8b0aab03"
      },
      "outputs": [
        {
          "name": "stdout",
          "output_type": "stream",
          "text": [
            "88.242035\n",
            "6.739473\n"
          ]
        }
      ],
      "source": [
        "# Compute the MSE and MAE\n",
        "print(tf.keras.metrics.mean_squared_error(x_valid, results).numpy())\n",
        "print(tf.keras.metrics.mean_absolute_error(x_valid, results).numpy())"
      ]
    },
    {
      "cell_type": "markdown",
      "metadata": {
        "id": "bzPIqeMWvbPy"
      },
      "source": [
        "## Wrap Up\n",
        "\n",
        "This concludes this short exercise on using LSTMs for time series forecasting. Next week, you will build upon this and add convolutions. Then, you will start to move away from synthetic data and use real-world datasets. See you there!"
      ]
    },
    {
      "cell_type": "markdown",
      "metadata": {
        "id": "U5PqTePGHeMH"
      },
      "source": [
        "## Optional: Including a Validation Set while Training\n",
        "\n",
        "Back in the first course of this specialization, you saw how you can also monitor the performance of your model against a validation set while training. You can also do that for this lab.\n",
        "\n",
        "First, you need to generate a `val_set` which are data windows and labels that your model can accept. You can simply reuse the `windowed_dataset` function for that and you can pass in the `x_valid` points to generate the windows."
      ]
    },
    {
      "cell_type": "code",
      "execution_count": 15,
      "metadata": {
        "id": "kvFVwL3PC4iX"
      },
      "outputs": [],
      "source": [
        "# Generate data windows of the validation set\n",
        "val_set = windowed_dataset(x_valid, window_size, batch_size, shuffle_buffer_size)"
      ]
    },
    {
      "cell_type": "markdown",
      "metadata": {
        "id": "p68j6XxEvP9K"
      },
      "source": [
        "You can then do the same training as before but pass in the `val_set` to the `validation_data` parameter of the `fit()` method."
      ]
    },
    {
      "cell_type": "code",
      "execution_count": 16,
      "metadata": {
        "colab": {
          "base_uri": "https://localhost:8080/"
        },
        "id": "wujKz6tXDSn0",
        "outputId": "58f2d142-2423-40cf-ccdb-26249eb820b3"
      },
      "outputs": [
        {
          "name": "stdout",
          "output_type": "stream",
          "text": [
            "Epoch 1/100\n",
            "31/31 [==============================] - 7s 70ms/step - loss: 41.3468 - mae: 41.8438 - val_loss: 36.0744 - val_mae: 36.5720\n",
            "Epoch 2/100\n",
            "31/31 [==============================] - 0s 13ms/step - loss: 12.4156 - mae: 12.9074 - val_loss: 31.1432 - val_mae: 31.6406\n",
            "Epoch 3/100\n",
            "31/31 [==============================] - 0s 13ms/step - loss: 8.4269 - mae: 8.9086 - val_loss: 21.1167 - val_mae: 21.6137\n",
            "Epoch 4/100\n",
            "31/31 [==============================] - 0s 13ms/step - loss: 6.8625 - mae: 7.3463 - val_loss: 15.8682 - val_mae: 16.3614\n",
            "Epoch 5/100\n",
            "31/31 [==============================] - 1s 14ms/step - loss: 6.3435 - mae: 6.8233 - val_loss: 14.0506 - val_mae: 14.5439\n",
            "Epoch 6/100\n",
            "31/31 [==============================] - 0s 12ms/step - loss: 6.1266 - mae: 6.6056 - val_loss: 12.1246 - val_mae: 12.6123\n",
            "Epoch 7/100\n",
            "31/31 [==============================] - 1s 20ms/step - loss: 5.9382 - mae: 6.4229 - val_loss: 11.5181 - val_mae: 12.0062\n",
            "Epoch 8/100\n",
            "31/31 [==============================] - 1s 23ms/step - loss: 5.7669 - mae: 6.2492 - val_loss: 11.7395 - val_mae: 12.2321\n",
            "Epoch 9/100\n",
            "31/31 [==============================] - 1s 23ms/step - loss: 5.7120 - mae: 6.1937 - val_loss: 9.9726 - val_mae: 10.4610\n",
            "Epoch 10/100\n",
            "31/31 [==============================] - 0s 12ms/step - loss: 5.6493 - mae: 6.1297 - val_loss: 10.0458 - val_mae: 10.5347\n",
            "Epoch 11/100\n",
            "31/31 [==============================] - 0s 13ms/step - loss: 5.5062 - mae: 5.9833 - val_loss: 9.4162 - val_mae: 9.9048\n",
            "Epoch 12/100\n",
            "31/31 [==============================] - 0s 12ms/step - loss: 5.4809 - mae: 5.9597 - val_loss: 9.7683 - val_mae: 10.2573\n",
            "Epoch 13/100\n",
            "31/31 [==============================] - 0s 13ms/step - loss: 5.3285 - mae: 5.8074 - val_loss: 9.5571 - val_mae: 10.0471\n",
            "Epoch 14/100\n",
            "31/31 [==============================] - 0s 12ms/step - loss: 5.2776 - mae: 5.7566 - val_loss: 8.6315 - val_mae: 9.1169\n",
            "Epoch 15/100\n",
            "31/31 [==============================] - 0s 12ms/step - loss: 5.1923 - mae: 5.6722 - val_loss: 8.1252 - val_mae: 8.6132\n",
            "Epoch 16/100\n",
            "31/31 [==============================] - 0s 13ms/step - loss: 5.1959 - mae: 5.6758 - val_loss: 8.4568 - val_mae: 8.9421\n",
            "Epoch 17/100\n",
            "31/31 [==============================] - 0s 12ms/step - loss: 5.2215 - mae: 5.6974 - val_loss: 8.5114 - val_mae: 8.9976\n",
            "Epoch 18/100\n",
            "31/31 [==============================] - 1s 14ms/step - loss: 5.0194 - mae: 5.4947 - val_loss: 8.9615 - val_mae: 9.4489\n",
            "Epoch 19/100\n",
            "31/31 [==============================] - 0s 12ms/step - loss: 5.0817 - mae: 5.5643 - val_loss: 8.9138 - val_mae: 9.4020\n",
            "Epoch 20/100\n",
            "31/31 [==============================] - 0s 13ms/step - loss: 4.9808 - mae: 5.4601 - val_loss: 7.3871 - val_mae: 7.8695\n",
            "Epoch 21/100\n",
            "31/31 [==============================] - 0s 13ms/step - loss: 4.9652 - mae: 5.4396 - val_loss: 7.8046 - val_mae: 8.2892\n",
            "Epoch 22/100\n",
            "31/31 [==============================] - 0s 13ms/step - loss: 4.9742 - mae: 5.4483 - val_loss: 7.0136 - val_mae: 7.4972\n",
            "Epoch 23/100\n",
            "31/31 [==============================] - 0s 13ms/step - loss: 4.9877 - mae: 5.4668 - val_loss: 7.0459 - val_mae: 7.5293\n",
            "Epoch 24/100\n",
            "31/31 [==============================] - 0s 12ms/step - loss: 5.0238 - mae: 5.5054 - val_loss: 7.3082 - val_mae: 7.7927\n",
            "Epoch 25/100\n",
            "31/31 [==============================] - 0s 12ms/step - loss: 4.8876 - mae: 5.3631 - val_loss: 7.5507 - val_mae: 8.0335\n",
            "Epoch 26/100\n",
            "31/31 [==============================] - 0s 13ms/step - loss: 4.8728 - mae: 5.3468 - val_loss: 7.1725 - val_mae: 7.6581\n",
            "Epoch 27/100\n",
            "31/31 [==============================] - 0s 13ms/step - loss: 4.8017 - mae: 5.2782 - val_loss: 7.4942 - val_mae: 7.9791\n",
            "Epoch 28/100\n",
            "31/31 [==============================] - 0s 13ms/step - loss: 4.8345 - mae: 5.3103 - val_loss: 6.6519 - val_mae: 7.1337\n",
            "Epoch 29/100\n",
            "31/31 [==============================] - 1s 24ms/step - loss: 4.9715 - mae: 5.4560 - val_loss: 7.6801 - val_mae: 8.1634\n",
            "Epoch 30/100\n",
            "31/31 [==============================] - 1s 24ms/step - loss: 4.7649 - mae: 5.2436 - val_loss: 6.7198 - val_mae: 7.2053\n",
            "Epoch 31/100\n",
            "31/31 [==============================] - 1s 24ms/step - loss: 4.7521 - mae: 5.2290 - val_loss: 7.0271 - val_mae: 7.5072\n",
            "Epoch 32/100\n",
            "31/31 [==============================] - 1s 13ms/step - loss: 4.7794 - mae: 5.2555 - val_loss: 7.2399 - val_mae: 7.7258\n",
            "Epoch 33/100\n",
            "31/31 [==============================] - 0s 13ms/step - loss: 4.7092 - mae: 5.1892 - val_loss: 7.2878 - val_mae: 7.7708\n",
            "Epoch 34/100\n",
            "31/31 [==============================] - 0s 12ms/step - loss: 4.7848 - mae: 5.2600 - val_loss: 6.3209 - val_mae: 6.8052\n",
            "Epoch 35/100\n",
            "31/31 [==============================] - 0s 12ms/step - loss: 4.8474 - mae: 5.3271 - val_loss: 7.1763 - val_mae: 7.6598\n",
            "Epoch 36/100\n",
            "31/31 [==============================] - 0s 13ms/step - loss: 5.0464 - mae: 5.5249 - val_loss: 7.3881 - val_mae: 7.8715\n",
            "Epoch 37/100\n",
            "31/31 [==============================] - 0s 13ms/step - loss: 4.6990 - mae: 5.1722 - val_loss: 6.5635 - val_mae: 7.0501\n",
            "Epoch 38/100\n",
            "31/31 [==============================] - 0s 13ms/step - loss: 4.7435 - mae: 5.2224 - val_loss: 7.1992 - val_mae: 7.6827\n",
            "Epoch 39/100\n",
            "31/31 [==============================] - 1s 14ms/step - loss: 4.6755 - mae: 5.1548 - val_loss: 7.1942 - val_mae: 7.6790\n",
            "Epoch 40/100\n",
            "31/31 [==============================] - 1s 15ms/step - loss: 4.7014 - mae: 5.1820 - val_loss: 6.8687 - val_mae: 7.3506\n",
            "Epoch 41/100\n",
            "31/31 [==============================] - 0s 13ms/step - loss: 4.6759 - mae: 5.1556 - val_loss: 6.6033 - val_mae: 7.0828\n",
            "Epoch 42/100\n",
            "31/31 [==============================] - 0s 13ms/step - loss: 4.6581 - mae: 5.1320 - val_loss: 6.9685 - val_mae: 7.4538\n",
            "Epoch 43/100\n",
            "31/31 [==============================] - 0s 13ms/step - loss: 4.6370 - mae: 5.1096 - val_loss: 6.9706 - val_mae: 7.4554\n",
            "Epoch 44/100\n",
            "31/31 [==============================] - 0s 12ms/step - loss: 4.6248 - mae: 5.1036 - val_loss: 6.1147 - val_mae: 6.5999\n",
            "Epoch 45/100\n",
            "31/31 [==============================] - 0s 12ms/step - loss: 4.6882 - mae: 5.1675 - val_loss: 6.6948 - val_mae: 7.1774\n",
            "Epoch 46/100\n",
            "31/31 [==============================] - 0s 13ms/step - loss: 4.7227 - mae: 5.2030 - val_loss: 6.5597 - val_mae: 7.0401\n",
            "Epoch 47/100\n",
            "31/31 [==============================] - 0s 13ms/step - loss: 4.6083 - mae: 5.0854 - val_loss: 6.0715 - val_mae: 6.5567\n",
            "Epoch 48/100\n",
            "31/31 [==============================] - 0s 12ms/step - loss: 4.6716 - mae: 5.1467 - val_loss: 6.0838 - val_mae: 6.5700\n",
            "Epoch 49/100\n",
            "31/31 [==============================] - 0s 12ms/step - loss: 4.6042 - mae: 5.0787 - val_loss: 6.6822 - val_mae: 7.1655\n",
            "Epoch 50/100\n",
            "31/31 [==============================] - 1s 21ms/step - loss: 4.5405 - mae: 5.0151 - val_loss: 6.8414 - val_mae: 7.3213\n",
            "Epoch 51/100\n",
            "31/31 [==============================] - 1s 17ms/step - loss: 4.5311 - mae: 5.0060 - val_loss: 6.0444 - val_mae: 6.5270\n",
            "Epoch 52/100\n",
            "31/31 [==============================] - 1s 13ms/step - loss: 4.5258 - mae: 5.0013 - val_loss: 7.2160 - val_mae: 7.7006\n",
            "Epoch 53/100\n",
            "31/31 [==============================] - 0s 13ms/step - loss: 4.5636 - mae: 5.0391 - val_loss: 5.9214 - val_mae: 6.4069\n",
            "Epoch 54/100\n",
            "31/31 [==============================] - 0s 13ms/step - loss: 4.6083 - mae: 5.0829 - val_loss: 5.8479 - val_mae: 6.3324\n",
            "Epoch 55/100\n",
            "31/31 [==============================] - 0s 13ms/step - loss: 4.6190 - mae: 5.0980 - val_loss: 6.6951 - val_mae: 7.1755\n",
            "Epoch 56/100\n",
            "31/31 [==============================] - 0s 13ms/step - loss: 4.5152 - mae: 4.9864 - val_loss: 5.8908 - val_mae: 6.3764\n",
            "Epoch 57/100\n",
            "31/31 [==============================] - 0s 13ms/step - loss: 4.6169 - mae: 5.0888 - val_loss: 7.0919 - val_mae: 7.5732\n",
            "Epoch 58/100\n",
            "31/31 [==============================] - 0s 13ms/step - loss: 4.5896 - mae: 5.0690 - val_loss: 5.9829 - val_mae: 6.4658\n",
            "Epoch 59/100\n",
            "31/31 [==============================] - 0s 12ms/step - loss: 4.4754 - mae: 4.9513 - val_loss: 6.6134 - val_mae: 7.0921\n",
            "Epoch 60/100\n",
            "31/31 [==============================] - 0s 13ms/step - loss: 4.4686 - mae: 4.9452 - val_loss: 6.1487 - val_mae: 6.6269\n",
            "Epoch 61/100\n",
            "31/31 [==============================] - 1s 14ms/step - loss: 4.4746 - mae: 4.9458 - val_loss: 5.7116 - val_mae: 6.1949\n",
            "Epoch 62/100\n",
            "31/31 [==============================] - 0s 13ms/step - loss: 4.4580 - mae: 4.9371 - val_loss: 6.3375 - val_mae: 6.8141\n",
            "Epoch 63/100\n",
            "31/31 [==============================] - 0s 13ms/step - loss: 4.5465 - mae: 5.0219 - val_loss: 7.0067 - val_mae: 7.4906\n",
            "Epoch 64/100\n",
            "31/31 [==============================] - 0s 13ms/step - loss: 4.4427 - mae: 4.9174 - val_loss: 6.2335 - val_mae: 6.7124\n",
            "Epoch 65/100\n",
            "31/31 [==============================] - 0s 13ms/step - loss: 4.5749 - mae: 5.0517 - val_loss: 7.0495 - val_mae: 7.5339\n",
            "Epoch 66/100\n",
            "31/31 [==============================] - 0s 13ms/step - loss: 4.5474 - mae: 5.0244 - val_loss: 5.6049 - val_mae: 6.0828\n",
            "Epoch 67/100\n",
            "31/31 [==============================] - 0s 13ms/step - loss: 4.5025 - mae: 4.9789 - val_loss: 6.1735 - val_mae: 6.6501\n",
            "Epoch 68/100\n",
            "31/31 [==============================] - 0s 13ms/step - loss: 4.4346 - mae: 4.9119 - val_loss: 5.7865 - val_mae: 6.2711\n",
            "Epoch 69/100\n",
            "31/31 [==============================] - 1s 14ms/step - loss: 4.4653 - mae: 4.9382 - val_loss: 6.1045 - val_mae: 6.5824\n",
            "Epoch 70/100\n",
            "31/31 [==============================] - 1s 22ms/step - loss: 4.4843 - mae: 4.9626 - val_loss: 7.5792 - val_mae: 8.0668\n",
            "Epoch 71/100\n",
            "31/31 [==============================] - 1s 23ms/step - loss: 4.5412 - mae: 5.0188 - val_loss: 5.8430 - val_mae: 6.3231\n",
            "Epoch 72/100\n",
            "31/31 [==============================] - 1s 19ms/step - loss: 4.5018 - mae: 4.9784 - val_loss: 5.7709 - val_mae: 6.2546\n",
            "Epoch 73/100\n",
            "31/31 [==============================] - 0s 13ms/step - loss: 4.4970 - mae: 4.9698 - val_loss: 5.5430 - val_mae: 6.0210\n",
            "Epoch 74/100\n",
            "31/31 [==============================] - 0s 12ms/step - loss: 4.4543 - mae: 4.9303 - val_loss: 5.5886 - val_mae: 6.0694\n",
            "Epoch 75/100\n",
            "31/31 [==============================] - 1s 14ms/step - loss: 4.4917 - mae: 4.9655 - val_loss: 5.8737 - val_mae: 6.3543\n",
            "Epoch 76/100\n",
            "31/31 [==============================] - 0s 13ms/step - loss: 4.5056 - mae: 4.9780 - val_loss: 6.8318 - val_mae: 7.3144\n",
            "Epoch 77/100\n",
            "31/31 [==============================] - 0s 13ms/step - loss: 4.4310 - mae: 4.9077 - val_loss: 5.8065 - val_mae: 6.2880\n",
            "Epoch 78/100\n",
            "31/31 [==============================] - 0s 13ms/step - loss: 4.4183 - mae: 4.8926 - val_loss: 6.4647 - val_mae: 6.9461\n",
            "Epoch 79/100\n",
            "31/31 [==============================] - 1s 15ms/step - loss: 4.6102 - mae: 5.0862 - val_loss: 6.0855 - val_mae: 6.5632\n",
            "Epoch 80/100\n",
            "31/31 [==============================] - 0s 13ms/step - loss: 4.4160 - mae: 4.8942 - val_loss: 5.3737 - val_mae: 5.8537\n",
            "Epoch 81/100\n",
            "31/31 [==============================] - 1s 13ms/step - loss: 4.5261 - mae: 5.0013 - val_loss: 5.5134 - val_mae: 5.9913\n",
            "Epoch 82/100\n",
            "31/31 [==============================] - 0s 13ms/step - loss: 4.4895 - mae: 4.9650 - val_loss: 6.3406 - val_mae: 6.8204\n",
            "Epoch 83/100\n",
            "31/31 [==============================] - 0s 13ms/step - loss: 4.5495 - mae: 5.0239 - val_loss: 6.4499 - val_mae: 6.9291\n",
            "Epoch 84/100\n",
            "31/31 [==============================] - 0s 12ms/step - loss: 4.4014 - mae: 4.8759 - val_loss: 5.7632 - val_mae: 6.2490\n",
            "Epoch 85/100\n",
            "31/31 [==============================] - 0s 12ms/step - loss: 4.4632 - mae: 4.9344 - val_loss: 6.0342 - val_mae: 6.5105\n",
            "Epoch 86/100\n",
            "31/31 [==============================] - 0s 13ms/step - loss: 4.4524 - mae: 4.9308 - val_loss: 5.5299 - val_mae: 6.0103\n",
            "Epoch 87/100\n",
            "31/31 [==============================] - 1s 13ms/step - loss: 4.4967 - mae: 4.9747 - val_loss: 5.5639 - val_mae: 6.0512\n",
            "Epoch 88/100\n",
            "31/31 [==============================] - 0s 13ms/step - loss: 4.4278 - mae: 4.9055 - val_loss: 5.8997 - val_mae: 6.3773\n",
            "Epoch 89/100\n",
            "31/31 [==============================] - 0s 12ms/step - loss: 4.5278 - mae: 5.0058 - val_loss: 6.5597 - val_mae: 7.0392\n",
            "Epoch 90/100\n",
            "31/31 [==============================] - 0s 13ms/step - loss: 4.4781 - mae: 4.9545 - val_loss: 5.9706 - val_mae: 6.4483\n",
            "Epoch 91/100\n",
            "31/31 [==============================] - 0s 12ms/step - loss: 4.4461 - mae: 4.9192 - val_loss: 5.2997 - val_mae: 5.7781\n",
            "Epoch 92/100\n",
            "31/31 [==============================] - 1s 24ms/step - loss: 4.4929 - mae: 4.9691 - val_loss: 5.4645 - val_mae: 5.9476\n",
            "Epoch 93/100\n",
            "31/31 [==============================] - 1s 20ms/step - loss: 4.4760 - mae: 4.9533 - val_loss: 6.4705 - val_mae: 6.9503\n",
            "Epoch 94/100\n",
            "31/31 [==============================] - 1s 17ms/step - loss: 4.4829 - mae: 4.9542 - val_loss: 5.4444 - val_mae: 5.9281\n",
            "Epoch 95/100\n",
            "31/31 [==============================] - 0s 13ms/step - loss: 4.4353 - mae: 4.9077 - val_loss: 5.4893 - val_mae: 5.9760\n",
            "Epoch 96/100\n",
            "31/31 [==============================] - 0s 13ms/step - loss: 4.3872 - mae: 4.8621 - val_loss: 5.7630 - val_mae: 6.2444\n",
            "Epoch 97/100\n",
            "31/31 [==============================] - 0s 13ms/step - loss: 4.4483 - mae: 4.9232 - val_loss: 5.8758 - val_mae: 6.3529\n",
            "Epoch 98/100\n",
            "31/31 [==============================] - 1s 15ms/step - loss: 4.4261 - mae: 4.9031 - val_loss: 5.6693 - val_mae: 6.1513\n",
            "Epoch 99/100\n",
            "31/31 [==============================] - 0s 13ms/step - loss: 4.4548 - mae: 4.9323 - val_loss: 5.6883 - val_mae: 6.1698\n",
            "Epoch 100/100\n",
            "31/31 [==============================] - 0s 13ms/step - loss: 4.4480 - mae: 4.9217 - val_loss: 5.6454 - val_mae: 6.1274\n"
          ]
        }
      ],
      "source": [
        "# Reset states generated by Keras\n",
        "tf.keras.backend.clear_session()\n",
        "\n",
        "# Build the model\n",
        "model = tf.keras.models.Sequential([\n",
        "  tf.keras.layers.Lambda(lambda x: tf.expand_dims(x, axis=-1),\n",
        "                      input_shape=[None]),\n",
        "   tf.keras.layers.Bidirectional(tf.keras.layers.LSTM(32, return_sequences=True)),\n",
        "  tf.keras.layers.Bidirectional(tf.keras.layers.LSTM(32)),\n",
        "  tf.keras.layers.Dense(1),\n",
        "  tf.keras.layers.Lambda(lambda x: x * 100.0)\n",
        "])\n",
        "\n",
        "# Set the learning rate\n",
        "learning_rate = 2e-6\n",
        "\n",
        "# Set the optimizer\n",
        "optimizer = tf.keras.optimizers.SGD(learning_rate=learning_rate, momentum=0.9)\n",
        "\n",
        "# Set the training parameters\n",
        "model.compile(loss=tf.keras.losses.Huber(),\n",
        "              optimizer=optimizer,\n",
        "              metrics=[\"mae\"])\n",
        "\n",
        "# Train the model\n",
        "history = model.fit(dataset,epochs=100, validation_data=val_set)"
      ]
    }
  ],
  "metadata": {
    "accelerator": "GPU",
    "colab": {
      "gpuType": "T4",
      "provenance": []
    },
    "kernelspec": {
      "display_name": "Python 3",
      "name": "python3"
    },
    "language_info": {
      "codemirror_mode": {
        "name": "ipython",
        "version": 3
      },
      "file_extension": ".py",
      "mimetype": "text/x-python",
      "name": "python",
      "nbconvert_exporter": "python",
      "pygments_lexer": "ipython3",
      "version": "3.9.13"
    }
  },
  "nbformat": 4,
  "nbformat_minor": 0
}
